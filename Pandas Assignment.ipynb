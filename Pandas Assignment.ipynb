{
 "cells": [
  {
   "cell_type": "markdown",
   "id": "c51a993a-4120-4feb-ba26-5d0ea9425e3d",
   "metadata": {},
   "source": [
    "Consider following code to answer further questions:\n",
    "import pandas as pd\n",
    "course_name = [‘Data Science’, ‘Machine Learning’, ‘Big Data’, ‘Data Engineer’]\n",
    "duration = [2,3,6,4]\n",
    "df = pd.DataFrame(data = {‘course_name’ : course_name, ‘duration’ : duration})"
   ]
  },
  {
   "cell_type": "code",
   "execution_count": 3,
   "id": "c636e7d2-8270-4e73-917e-0aeb3f87f80b",
   "metadata": {},
   "outputs": [],
   "source": [
    "import pandas as pd\n",
    "course_name = ['Data Science', 'Machine Learning', 'Big Data', 'Data Engineer']\n",
    "duration = [2,3,6,4]\n",
    "df = pd.DataFrame(data = {'course_name' : course_name, 'duration' : duration})"
   ]
  },
  {
   "cell_type": "code",
   "execution_count": 4,
   "id": "bfea5d4d-dcd7-481b-bc9a-4adf19db13bb",
   "metadata": {},
   "outputs": [
    {
     "data": {
      "text/html": [
       "<div>\n",
       "<style scoped>\n",
       "    .dataframe tbody tr th:only-of-type {\n",
       "        vertical-align: middle;\n",
       "    }\n",
       "\n",
       "    .dataframe tbody tr th {\n",
       "        vertical-align: top;\n",
       "    }\n",
       "\n",
       "    .dataframe thead th {\n",
       "        text-align: right;\n",
       "    }\n",
       "</style>\n",
       "<table border=\"1\" class=\"dataframe\">\n",
       "  <thead>\n",
       "    <tr style=\"text-align: right;\">\n",
       "      <th></th>\n",
       "      <th>course_name</th>\n",
       "      <th>duration</th>\n",
       "    </tr>\n",
       "  </thead>\n",
       "  <tbody>\n",
       "    <tr>\n",
       "      <th>0</th>\n",
       "      <td>Data Science</td>\n",
       "      <td>2</td>\n",
       "    </tr>\n",
       "    <tr>\n",
       "      <th>1</th>\n",
       "      <td>Machine Learning</td>\n",
       "      <td>3</td>\n",
       "    </tr>\n",
       "    <tr>\n",
       "      <th>2</th>\n",
       "      <td>Big Data</td>\n",
       "      <td>6</td>\n",
       "    </tr>\n",
       "    <tr>\n",
       "      <th>3</th>\n",
       "      <td>Data Engineer</td>\n",
       "      <td>4</td>\n",
       "    </tr>\n",
       "  </tbody>\n",
       "</table>\n",
       "</div>"
      ],
      "text/plain": [
       "        course_name  duration\n",
       "0      Data Science         2\n",
       "1  Machine Learning         3\n",
       "2          Big Data         6\n",
       "3     Data Engineer         4"
      ]
     },
     "execution_count": 4,
     "metadata": {},
     "output_type": "execute_result"
    }
   ],
   "source": [
    "df"
   ]
  },
  {
   "cell_type": "markdown",
   "id": "162a339e-94a9-4fee-8c28-217ffe556935",
   "metadata": {},
   "source": [
    "**Q1. Write a code to print the data present in the second row of the dataframe, df.**"
   ]
  },
  {
   "cell_type": "code",
   "execution_count": 8,
   "id": "69d4d9ef-62a1-4834-a97e-1512863bf853",
   "metadata": {},
   "outputs": [
    {
     "data": {
      "text/plain": [
       "course_name    Machine Learning\n",
       "duration                      3\n",
       "Name: 1, dtype: object"
      ]
     },
     "execution_count": 8,
     "metadata": {},
     "output_type": "execute_result"
    }
   ],
   "source": [
    "second_row = df.iloc[1]\n",
    "second_row"
   ]
  },
  {
   "cell_type": "code",
   "execution_count": null,
   "id": "6794dd7d-2704-45ff-9ad1-b0e0b566c395",
   "metadata": {},
   "outputs": [],
   "source": []
  },
  {
   "cell_type": "markdown",
   "id": "fc130ea0-8c23-4d1b-9e57-0c58557d8b31",
   "metadata": {},
   "source": [
    "**Q2. What is the difference between the functions loc and iloc in pandas.DataFrame?**"
   ]
  },
  {
   "cell_type": "markdown",
   "id": "9a3230fc-6f7f-4db1-b95e-7fc016cb1aa3",
   "metadata": {},
   "source": [
    "**loc** function is primarily label-based, meaning that it uses labels to access rows or columns in a DataFrame.\n",
    "\n",
    "**iloc** function is primarily integer-based, meaning that it uses integer positions to access rows or columns in a DataFrame."
   ]
  },
  {
   "cell_type": "code",
   "execution_count": null,
   "id": "2a4cd473-fc09-4c5c-b4af-2aa9f8232922",
   "metadata": {},
   "outputs": [],
   "source": []
  },
  {
   "cell_type": "markdown",
   "id": "6e02fd16-92fb-4a4e-9347-22f2c88550fa",
   "metadata": {},
   "source": [
    "**Q3. Reindex the given dataframe using a variable, reindex = [3,0,1,2] and store it in the variable, new_df\n",
    "then find the output for both new_df.loc[2] and new_df.iloc[2].**\n",
    "\n",
    "Did you observe any difference in both the outputs? If so then explain it.\n",
    "Consider the below code to answer further questions:\n",
    "import pandas as pd\n",
    "import numpy as np\n",
    "columns = ['column_1', 'column_2', 'column_3', 'column_4', 'column_5', 'column_6']\n",
    "indices = [1,2,3,4,5,6]\n",
    "#Creating a dataframe:\n",
    "df1 = pd.DataFrame(np.random.rand(6,6), columns = columns, index = indices)"
   ]
  },
  {
   "cell_type": "code",
   "execution_count": 9,
   "id": "4dfd7658-1491-4f9e-b409-46a5e80f7ecd",
   "metadata": {},
   "outputs": [],
   "source": [
    "import pandas as pd\n",
    "import numpy as np\n",
    "columns = ['column_1', 'column_2', 'column_3', 'column_4', 'column_5', 'column_6']\n",
    "indices = [1,2,3,4,5,6]\n",
    "#Creating a dataframe:\n",
    "df1 = pd.DataFrame(np.random.rand(6,6), columns = columns, index = indices)"
   ]
  },
  {
   "cell_type": "code",
   "execution_count": 10,
   "id": "0d357d64-80f3-4c96-a99b-a54b440cc29b",
   "metadata": {},
   "outputs": [
    {
     "data": {
      "text/html": [
       "<div>\n",
       "<style scoped>\n",
       "    .dataframe tbody tr th:only-of-type {\n",
       "        vertical-align: middle;\n",
       "    }\n",
       "\n",
       "    .dataframe tbody tr th {\n",
       "        vertical-align: top;\n",
       "    }\n",
       "\n",
       "    .dataframe thead th {\n",
       "        text-align: right;\n",
       "    }\n",
       "</style>\n",
       "<table border=\"1\" class=\"dataframe\">\n",
       "  <thead>\n",
       "    <tr style=\"text-align: right;\">\n",
       "      <th></th>\n",
       "      <th>column_1</th>\n",
       "      <th>column_2</th>\n",
       "      <th>column_3</th>\n",
       "      <th>column_4</th>\n",
       "      <th>column_5</th>\n",
       "      <th>column_6</th>\n",
       "    </tr>\n",
       "  </thead>\n",
       "  <tbody>\n",
       "    <tr>\n",
       "      <th>1</th>\n",
       "      <td>0.800163</td>\n",
       "      <td>0.690509</td>\n",
       "      <td>0.005763</td>\n",
       "      <td>0.889520</td>\n",
       "      <td>0.434623</td>\n",
       "      <td>0.026450</td>\n",
       "    </tr>\n",
       "    <tr>\n",
       "      <th>2</th>\n",
       "      <td>0.681575</td>\n",
       "      <td>0.665676</td>\n",
       "      <td>0.827282</td>\n",
       "      <td>0.256866</td>\n",
       "      <td>0.902638</td>\n",
       "      <td>0.818895</td>\n",
       "    </tr>\n",
       "    <tr>\n",
       "      <th>3</th>\n",
       "      <td>0.111824</td>\n",
       "      <td>0.220880</td>\n",
       "      <td>0.684174</td>\n",
       "      <td>0.092034</td>\n",
       "      <td>0.070761</td>\n",
       "      <td>0.005441</td>\n",
       "    </tr>\n",
       "    <tr>\n",
       "      <th>4</th>\n",
       "      <td>0.255315</td>\n",
       "      <td>0.730530</td>\n",
       "      <td>0.019489</td>\n",
       "      <td>0.192015</td>\n",
       "      <td>0.882015</td>\n",
       "      <td>0.342133</td>\n",
       "    </tr>\n",
       "    <tr>\n",
       "      <th>5</th>\n",
       "      <td>0.965279</td>\n",
       "      <td>0.460108</td>\n",
       "      <td>0.684088</td>\n",
       "      <td>0.804998</td>\n",
       "      <td>0.945132</td>\n",
       "      <td>0.250509</td>\n",
       "    </tr>\n",
       "    <tr>\n",
       "      <th>6</th>\n",
       "      <td>0.383950</td>\n",
       "      <td>0.658660</td>\n",
       "      <td>0.154153</td>\n",
       "      <td>0.034138</td>\n",
       "      <td>0.803497</td>\n",
       "      <td>0.454381</td>\n",
       "    </tr>\n",
       "  </tbody>\n",
       "</table>\n",
       "</div>"
      ],
      "text/plain": [
       "   column_1  column_2  column_3  column_4  column_5  column_6\n",
       "1  0.800163  0.690509  0.005763  0.889520  0.434623  0.026450\n",
       "2  0.681575  0.665676  0.827282  0.256866  0.902638  0.818895\n",
       "3  0.111824  0.220880  0.684174  0.092034  0.070761  0.005441\n",
       "4  0.255315  0.730530  0.019489  0.192015  0.882015  0.342133\n",
       "5  0.965279  0.460108  0.684088  0.804998  0.945132  0.250509\n",
       "6  0.383950  0.658660  0.154153  0.034138  0.803497  0.454381"
      ]
     },
     "execution_count": 10,
     "metadata": {},
     "output_type": "execute_result"
    }
   ],
   "source": [
    "df1"
   ]
  },
  {
   "cell_type": "code",
   "execution_count": 15,
   "id": "97fccb24-a50b-4b38-8184-ccfa46394833",
   "metadata": {},
   "outputs": [
    {
     "data": {
      "text/html": [
       "<div>\n",
       "<style scoped>\n",
       "    .dataframe tbody tr th:only-of-type {\n",
       "        vertical-align: middle;\n",
       "    }\n",
       "\n",
       "    .dataframe tbody tr th {\n",
       "        vertical-align: top;\n",
       "    }\n",
       "\n",
       "    .dataframe thead th {\n",
       "        text-align: right;\n",
       "    }\n",
       "</style>\n",
       "<table border=\"1\" class=\"dataframe\">\n",
       "  <thead>\n",
       "    <tr style=\"text-align: right;\">\n",
       "      <th></th>\n",
       "      <th>column_1</th>\n",
       "      <th>column_2</th>\n",
       "      <th>column_3</th>\n",
       "      <th>column_4</th>\n",
       "      <th>column_5</th>\n",
       "      <th>column_6</th>\n",
       "    </tr>\n",
       "  </thead>\n",
       "  <tbody>\n",
       "    <tr>\n",
       "      <th>3</th>\n",
       "      <td>0.111824</td>\n",
       "      <td>0.220880</td>\n",
       "      <td>0.684174</td>\n",
       "      <td>0.092034</td>\n",
       "      <td>0.070761</td>\n",
       "      <td>0.005441</td>\n",
       "    </tr>\n",
       "    <tr>\n",
       "      <th>0</th>\n",
       "      <td>NaN</td>\n",
       "      <td>NaN</td>\n",
       "      <td>NaN</td>\n",
       "      <td>NaN</td>\n",
       "      <td>NaN</td>\n",
       "      <td>NaN</td>\n",
       "    </tr>\n",
       "    <tr>\n",
       "      <th>1</th>\n",
       "      <td>0.800163</td>\n",
       "      <td>0.690509</td>\n",
       "      <td>0.005763</td>\n",
       "      <td>0.889520</td>\n",
       "      <td>0.434623</td>\n",
       "      <td>0.026450</td>\n",
       "    </tr>\n",
       "    <tr>\n",
       "      <th>2</th>\n",
       "      <td>0.681575</td>\n",
       "      <td>0.665676</td>\n",
       "      <td>0.827282</td>\n",
       "      <td>0.256866</td>\n",
       "      <td>0.902638</td>\n",
       "      <td>0.818895</td>\n",
       "    </tr>\n",
       "  </tbody>\n",
       "</table>\n",
       "</div>"
      ],
      "text/plain": [
       "   column_1  column_2  column_3  column_4  column_5  column_6\n",
       "3  0.111824  0.220880  0.684174  0.092034  0.070761  0.005441\n",
       "0       NaN       NaN       NaN       NaN       NaN       NaN\n",
       "1  0.800163  0.690509  0.005763  0.889520  0.434623  0.026450\n",
       "2  0.681575  0.665676  0.827282  0.256866  0.902638  0.818895"
      ]
     },
     "execution_count": 15,
     "metadata": {},
     "output_type": "execute_result"
    }
   ],
   "source": [
    "reindex = [3,0,1,2]\n",
    "new_df = df1.reindex(reindex)\n",
    "new_df"
   ]
  },
  {
   "cell_type": "code",
   "execution_count": 17,
   "id": "c8c2a180-a99b-48b6-ab54-3b046b3f29a1",
   "metadata": {},
   "outputs": [
    {
     "data": {
      "text/plain": [
       "column_1    0.681575\n",
       "column_2    0.665676\n",
       "column_3    0.827282\n",
       "column_4    0.256866\n",
       "column_5    0.902638\n",
       "column_6    0.818895\n",
       "Name: 2, dtype: float64"
      ]
     },
     "execution_count": 17,
     "metadata": {},
     "output_type": "execute_result"
    }
   ],
   "source": [
    "new_df.loc[2]"
   ]
  },
  {
   "cell_type": "code",
   "execution_count": 18,
   "id": "b6b642c1-4629-47e6-bbd0-c47129fbeb54",
   "metadata": {},
   "outputs": [
    {
     "data": {
      "text/plain": [
       "column_1    0.800163\n",
       "column_2    0.690509\n",
       "column_3    0.005763\n",
       "column_4    0.889520\n",
       "column_5    0.434623\n",
       "column_6    0.026450\n",
       "Name: 1, dtype: float64"
      ]
     },
     "execution_count": 18,
     "metadata": {},
     "output_type": "execute_result"
    }
   ],
   "source": [
    "new_df.iloc[2]"
   ]
  },
  {
   "cell_type": "markdown",
   "id": "87bc1b61-28ce-4cd6-acc8-a503e801af9c",
   "metadata": {},
   "source": [
    "new_df.loc[2] returns the row with the label/index value 2 from the DataFrame new_df. It matches the reindexed row with the label 2, so it retrieves the corresponding data.\n",
    "\n",
    "new_df.iloc[2] returns the row at the integer position 2 from the DataFrame new_df. It retrieves the third row in the DataFrame based on the 0-based integer position."
   ]
  },
  {
   "cell_type": "code",
   "execution_count": null,
   "id": "e7123a3b-8e81-4a09-9b58-966c0188fb19",
   "metadata": {},
   "outputs": [],
   "source": []
  },
  {
   "cell_type": "markdown",
   "id": "e7c790ef-3d70-49ec-a290-9a60bdaf1702",
   "metadata": {},
   "source": [
    "**Q4. Write a code to find the following statistical measurements for the above dataframe df1**:\n",
    "(i) mean of each and every column present in the dataframe.\n",
    "(ii) standard deviation of column, ‘column_2’"
   ]
  },
  {
   "cell_type": "code",
   "execution_count": 21,
   "id": "5937e60d-571c-4487-a548-f3004401f120",
   "metadata": {},
   "outputs": [
    {
     "data": {
      "text/html": [
       "<div>\n",
       "<style scoped>\n",
       "    .dataframe tbody tr th:only-of-type {\n",
       "        vertical-align: middle;\n",
       "    }\n",
       "\n",
       "    .dataframe tbody tr th {\n",
       "        vertical-align: top;\n",
       "    }\n",
       "\n",
       "    .dataframe thead th {\n",
       "        text-align: right;\n",
       "    }\n",
       "</style>\n",
       "<table border=\"1\" class=\"dataframe\">\n",
       "  <thead>\n",
       "    <tr style=\"text-align: right;\">\n",
       "      <th></th>\n",
       "      <th>column_1</th>\n",
       "      <th>column_2</th>\n",
       "      <th>column_3</th>\n",
       "      <th>column_4</th>\n",
       "      <th>column_5</th>\n",
       "      <th>column_6</th>\n",
       "    </tr>\n",
       "  </thead>\n",
       "  <tbody>\n",
       "    <tr>\n",
       "      <th>1</th>\n",
       "      <td>0.800163</td>\n",
       "      <td>0.690509</td>\n",
       "      <td>0.005763</td>\n",
       "      <td>0.889520</td>\n",
       "      <td>0.434623</td>\n",
       "      <td>0.026450</td>\n",
       "    </tr>\n",
       "    <tr>\n",
       "      <th>2</th>\n",
       "      <td>0.681575</td>\n",
       "      <td>0.665676</td>\n",
       "      <td>0.827282</td>\n",
       "      <td>0.256866</td>\n",
       "      <td>0.902638</td>\n",
       "      <td>0.818895</td>\n",
       "    </tr>\n",
       "    <tr>\n",
       "      <th>3</th>\n",
       "      <td>0.111824</td>\n",
       "      <td>0.220880</td>\n",
       "      <td>0.684174</td>\n",
       "      <td>0.092034</td>\n",
       "      <td>0.070761</td>\n",
       "      <td>0.005441</td>\n",
       "    </tr>\n",
       "    <tr>\n",
       "      <th>4</th>\n",
       "      <td>0.255315</td>\n",
       "      <td>0.730530</td>\n",
       "      <td>0.019489</td>\n",
       "      <td>0.192015</td>\n",
       "      <td>0.882015</td>\n",
       "      <td>0.342133</td>\n",
       "    </tr>\n",
       "    <tr>\n",
       "      <th>5</th>\n",
       "      <td>0.965279</td>\n",
       "      <td>0.460108</td>\n",
       "      <td>0.684088</td>\n",
       "      <td>0.804998</td>\n",
       "      <td>0.945132</td>\n",
       "      <td>0.250509</td>\n",
       "    </tr>\n",
       "    <tr>\n",
       "      <th>6</th>\n",
       "      <td>0.383950</td>\n",
       "      <td>0.658660</td>\n",
       "      <td>0.154153</td>\n",
       "      <td>0.034138</td>\n",
       "      <td>0.803497</td>\n",
       "      <td>0.454381</td>\n",
       "    </tr>\n",
       "  </tbody>\n",
       "</table>\n",
       "</div>"
      ],
      "text/plain": [
       "   column_1  column_2  column_3  column_4  column_5  column_6\n",
       "1  0.800163  0.690509  0.005763  0.889520  0.434623  0.026450\n",
       "2  0.681575  0.665676  0.827282  0.256866  0.902638  0.818895\n",
       "3  0.111824  0.220880  0.684174  0.092034  0.070761  0.005441\n",
       "4  0.255315  0.730530  0.019489  0.192015  0.882015  0.342133\n",
       "5  0.965279  0.460108  0.684088  0.804998  0.945132  0.250509\n",
       "6  0.383950  0.658660  0.154153  0.034138  0.803497  0.454381"
      ]
     },
     "execution_count": 21,
     "metadata": {},
     "output_type": "execute_result"
    }
   ],
   "source": [
    "df1"
   ]
  },
  {
   "cell_type": "code",
   "execution_count": 19,
   "id": "b0db0bfe-1c96-4216-9e4c-a9478e35d8b6",
   "metadata": {},
   "outputs": [
    {
     "data": {
      "text/plain": [
       "column_1    0.533018\n",
       "column_2    0.571060\n",
       "column_3    0.395825\n",
       "column_4    0.378262\n",
       "column_5    0.673111\n",
       "column_6    0.316301\n",
       "dtype: float64"
      ]
     },
     "execution_count": 19,
     "metadata": {},
     "output_type": "execute_result"
    }
   ],
   "source": [
    "df1.mean()"
   ]
  },
  {
   "cell_type": "code",
   "execution_count": 22,
   "id": "ab114360-1d2f-410c-9365-323db6b9adde",
   "metadata": {},
   "outputs": [
    {
     "data": {
      "text/plain": [
       "0.19558188899832957"
      ]
     },
     "execution_count": 22,
     "metadata": {},
     "output_type": "execute_result"
    }
   ],
   "source": [
    "df1['column_2'].std()"
   ]
  },
  {
   "cell_type": "code",
   "execution_count": null,
   "id": "ee545b29-43aa-4fba-bb6f-03ecccb8082f",
   "metadata": {},
   "outputs": [],
   "source": []
  },
  {
   "cell_type": "markdown",
   "id": "de637674-e033-4867-ad36-a052a8d8d7c3",
   "metadata": {},
   "source": [
    "**Q5. Replace the data present in the second row of column, ‘column_2’ by a string variable then find the\n",
    "mean of column, column_2.**\n",
    "If you are getting errors in executing it then explain why.\n",
    "[Hint: To replace the data use df1.loc[] and equate this to string data of your choice.]"
   ]
  },
  {
   "cell_type": "code",
   "execution_count": 26,
   "id": "4c159213-72aa-47e4-b9d6-28413f7d7c69",
   "metadata": {},
   "outputs": [
    {
     "name": "stdout",
     "output_type": "stream",
     "text": [
      "The error is: unsupported operand type(s) for +: 'float' and 'str'\n"
     ]
    }
   ],
   "source": [
    "try:\n",
    "    df1.loc[2, 'column_2'] = 'string_data'\n",
    "    column_2_mean = df1['column_2'].mean()\n",
    "except Exception as e:\n",
    "    print(f\"The error is: {e}\")"
   ]
  },
  {
   "cell_type": "code",
   "execution_count": null,
   "id": "f87ee6b4-b657-4ed1-a0ff-297146b29dd5",
   "metadata": {},
   "outputs": [],
   "source": []
  },
  {
   "cell_type": "markdown",
   "id": "6634c0a8-83e1-4929-a51b-75910a399ded",
   "metadata": {},
   "source": [
    "**Q6. What do you understand about the windows function in pandas and list the types of windows\n",
    "functions?**"
   ]
  },
  {
   "cell_type": "markdown",
   "id": "272d973e-250d-4758-a916-ba912dd3d993",
   "metadata": {},
   "source": [
    "The windows functions provide a way to perform calculations and transformations on a sliding or rolling window of data in a DataFrame or Series. \n",
    "\n",
    "Types of windows function:\n",
    "\n",
    "1. Rolling window functions\n",
    "2. Expanding Window Functions\n",
    "3. Exponential Weighted Functions"
   ]
  },
  {
   "cell_type": "markdown",
   "id": "86e5ab04-deee-4a3b-bcae-b3fb42c483c3",
   "metadata": {},
   "source": [
    "**Q7. Write a code to print only the current month and year at the time of answering this question.\n",
    "[Hint: Use pandas.datetime function]**"
   ]
  },
  {
   "cell_type": "code",
   "execution_count": 38,
   "id": "9d3609e6-5bb2-4eae-be46-a321108525e6",
   "metadata": {},
   "outputs": [],
   "source": [
    "import datetime\n",
    "current_month = datetime.datetime.now().month\n",
    "current_year = datetime.datetime.now().year"
   ]
  },
  {
   "cell_type": "code",
   "execution_count": 40,
   "id": "48f65bff-4f78-4457-882b-10b8a9b4c686",
   "metadata": {},
   "outputs": [
    {
     "data": {
      "text/plain": [
       "7"
      ]
     },
     "execution_count": 40,
     "metadata": {},
     "output_type": "execute_result"
    }
   ],
   "source": [
    "current_month"
   ]
  },
  {
   "cell_type": "code",
   "execution_count": 39,
   "id": "407fbda3-cf30-476e-8ab7-3049cbfa6aa9",
   "metadata": {},
   "outputs": [
    {
     "data": {
      "text/plain": [
       "2023"
      ]
     },
     "execution_count": 39,
     "metadata": {},
     "output_type": "execute_result"
    }
   ],
   "source": [
    "current_year"
   ]
  },
  {
   "cell_type": "markdown",
   "id": "dcbbbbd6-bc15-47a0-8b3d-36f4468c9034",
   "metadata": {},
   "source": [
    "**Q8. Write a Python program that takes in two dates as input (in the format YYYY-MM-DD) and\n",
    "calculates the difference between them in days, hours, and minutes using Pandas time delta. The\n",
    "program should prompt the user to enter the dates and display the result.**"
   ]
  },
  {
   "cell_type": "code",
   "execution_count": 44,
   "id": "c15c49c3-b0c7-4324-90c7-fc0fadd57b92",
   "metadata": {},
   "outputs": [
    {
     "name": "stdin",
     "output_type": "stream",
     "text": [
      "Enter the first date in YYYY-MM-DD:  2023-06-15\n",
      "Enter the first date in YYYY-MM-DD:  2023-07-01\n"
     ]
    },
    {
     "name": "stdout",
     "output_type": "stream",
     "text": [
      "Difference between the dates:\n",
      "Days: 16\n",
      "Hours: 0\n",
      "Minutes: 0\n"
     ]
    }
   ],
   "source": [
    "import pandas as pd\n",
    "\n",
    "date1 = input(\"Enter the first date in YYYY-MM-DD: \")\n",
    "date2 = input(\"Enter the first date in YYYY-MM-DD: \")\n",
    "\n",
    "time1 = pd.Timestamp(date1)\n",
    "time2 = pd.Timestamp(date2)\n",
    "\n",
    "time_diff = time2 - time1\n",
    "\n",
    "days = time_diff.days\n",
    "hours = time_diff.seconds//3600\n",
    "minutes = (time_diff.seconds % 3600) // 60\n",
    "\n",
    "print(\"Difference between the dates:\")\n",
    "print(f\"Days: {days}\")\n",
    "print(f\"Hours: {hours}\")\n",
    "print(f\"Minutes: {minutes}\")"
   ]
  },
  {
   "cell_type": "code",
   "execution_count": null,
   "id": "0380210f-a143-4d36-a97e-e4144359655d",
   "metadata": {},
   "outputs": [],
   "source": []
  },
  {
   "cell_type": "markdown",
   "id": "9e6e1da6-bda6-48b3-b8c1-78862bf87f0b",
   "metadata": {},
   "source": [
    "**Q9. Write a Python program that reads a CSV file containing categorical data and converts a specified\n",
    "column to a categorical data type. The program should prompt the user to enter the file path, column\n",
    "name, and category order, and then display the sorted data.**"
   ]
  },
  {
   "cell_type": "code",
   "execution_count": null,
   "id": "9bc07ded-66f1-4aee-9996-acaa55a20aa3",
   "metadata": {},
   "outputs": [],
   "source": [
    "categorical_data.csv"
   ]
  },
  {
   "cell_type": "code",
   "execution_count": 12,
   "id": "26421e03-55e4-46a1-b53e-1cd34f796565",
   "metadata": {},
   "outputs": [
    {
     "name": "stdin",
     "output_type": "stream",
     "text": [
      "Enter the file path:  categorical_data.csv\n",
      "Enter the column name:  Category\n",
      "Enter the category order (comma-separated):  Fruit,Vegetable\n"
     ]
    },
    {
     "data": {
      "text/html": [
       "<div>\n",
       "<style scoped>\n",
       "    .dataframe tbody tr th:only-of-type {\n",
       "        vertical-align: middle;\n",
       "    }\n",
       "\n",
       "    .dataframe tbody tr th {\n",
       "        vertical-align: top;\n",
       "    }\n",
       "\n",
       "    .dataframe thead th {\n",
       "        text-align: right;\n",
       "    }\n",
       "</style>\n",
       "<table border=\"1\" class=\"dataframe\">\n",
       "  <thead>\n",
       "    <tr style=\"text-align: right;\">\n",
       "      <th></th>\n",
       "      <th>Category</th>\n",
       "      <th>Value</th>\n",
       "    </tr>\n",
       "  </thead>\n",
       "  <tbody>\n",
       "    <tr>\n",
       "      <th>0</th>\n",
       "      <td>Fruit</td>\n",
       "      <td>Apple</td>\n",
       "    </tr>\n",
       "    <tr>\n",
       "      <th>2</th>\n",
       "      <td>Fruit</td>\n",
       "      <td>Banana</td>\n",
       "    </tr>\n",
       "    <tr>\n",
       "      <th>1</th>\n",
       "      <td>Vegetable</td>\n",
       "      <td>Cabbage</td>\n",
       "    </tr>\n",
       "    <tr>\n",
       "      <th>3</th>\n",
       "      <td>Vegetable</td>\n",
       "      <td>Carrot</td>\n",
       "    </tr>\n",
       "  </tbody>\n",
       "</table>\n",
       "</div>"
      ],
      "text/plain": [
       "    Category    Value\n",
       "0      Fruit    Apple\n",
       "2      Fruit   Banana\n",
       "1  Vegetable  Cabbage\n",
       "3  Vegetable   Carrot"
      ]
     },
     "execution_count": 12,
     "metadata": {},
     "output_type": "execute_result"
    }
   ],
   "source": [
    "import pandas as pd\n",
    "\n",
    "file = input(\"Enter the file path: \")\n",
    "\n",
    "col_name = input(\"Enter the column name: \")\n",
    "\n",
    "category_order = input(\"Enter the category order (comma-separated): \").split(\",\")\n",
    "\n",
    "df = pd.read_csv(file)\n",
    "\n",
    "df[col_name] = pd.Categorical(df[col_name], categories=category_order, ordered=True)\n",
    "\n",
    "sorted_data = df.sort_values(col_name)\n",
    "\n",
    "sorted_data"
   ]
  },
  {
   "cell_type": "code",
   "execution_count": null,
   "id": "917e0304-b04c-4fa7-af15-ae5fe4ca27ec",
   "metadata": {},
   "outputs": [],
   "source": []
  },
  {
   "cell_type": "markdown",
   "id": "a21c0891-64f8-4c5c-b0fc-a6362ebf7639",
   "metadata": {},
   "source": [
    "**Q10. Write a Python program that reads a CSV file containing sales data for different products and\n",
    "visualizes the data using a stacked bar chart to show the sales of each product category over time. The\n",
    "program should prompt the user to enter the file path and display the chart.**"
   ]
  },
  {
   "cell_type": "code",
   "execution_count": 28,
   "id": "929fb697-3e5f-45f1-b92e-c3d49e5e3d92",
   "metadata": {},
   "outputs": [
    {
     "name": "stdin",
     "output_type": "stream",
     "text": [
      "Enter the file path:  sales_data.csv\n"
     ]
    },
    {
     "name": "stderr",
     "output_type": "stream",
     "text": [
      "/tmp/ipykernel_77/1132673632.py:8: FutureWarning: The default value of numeric_only in DataFrameGroupBy.sum is deprecated. In a future version, numeric_only will default to False. Either specify numeric_only or select only columns which should be valid for the function.\n",
      "  grp_data = df.groupby('Category').sum()\n"
     ]
    },
    {
     "data": {
      "image/png": "[encoded data removed]",
      "text/plain": [
       "<Figure size 640x480 with 1 Axes>"
      ]
     },
     "metadata": {},
     "output_type": "display_data"
    }
   ],
   "source": [
    "import pandas as pd\n",
    "import matplotlib.pyplot as pl\n",
    "\n",
    "file_path = input(\"Enter the file path: \")\n",
    "\n",
    "df = pd.read_csv(file_path)\n",
    "\n",
    "grp_data = df.groupby('Category').sum()\n",
    "\n",
    "tran = grp_data.transpose()\n",
    "\n",
    "tran.plot(kind = 'bar',stacked = True)\n",
    "\n",
    "pl.title(\"Sales data of different product category\")\n",
    "pl.xlabel(\"Time\")\n",
    "pl.ylabel(\"Sales\")\n",
    "\n",
    "pl.show()"
   ]
  },
  {
   "cell_type": "code",
   "execution_count": null,
   "id": "f85f1a2a-bbd3-4074-a0bb-711c8092b4b0",
   "metadata": {},
   "outputs": [],
   "source": []
  },
  {
   "cell_type": "markdown",
   "id": "55f18432-56f6-4ad2-a033-fc7a01075346",
   "metadata": {},
   "source": [
    "**Q11. You are given a CSV file containing student data that includes the student ID and their test score. Write a Python program that reads the CSV file, calculates the mean, median, and mode of the test scores, and displays the results in a table.**\n",
    "\n",
    "The program should do the following:\n",
    "1. I Prompt the user to enter the file path of the CSV file containing the student data.\n",
    "2. Read the CSV file into a Pandas DataFrame.\n",
    "3. Calculate the mean, median, and mode of the test scores using Pandas tools.\n",
    "4. Display the mean, median, and mode in a table.\n",
    "\n",
    "Assume the CSV file contains the following columns:\n",
    "\n",
    "1. Student ID: The ID of the student\n",
    "2. Test Score: The score of the student's test.\n",
    "\n",
    "Example usage of the program:\n",
    "Enter the file path of the CSV file containing the student data: student_data.csv\n",
    "\n",
    "+-----------+--------+\n",
    "| Statistic | Value |\n",
    "+-----------+--------+\n",
    "| Mean | 79.6 |\n",
    "| Median | 82 |\n",
    "| Mode | 85, 90 |\n",
    "+-----------+--------+\n",
    "\n",
    "Assume that the CSV file student_data.csv contains the following data:\n",
    "Student ID,Test Score\n",
    "1,85\n",
    "2,90\n",
    "3,80\n",
    "4,75\n",
    "5,85\n",
    "6,82\n",
    "7,78\n",
    "8,85\n",
    "9,90\n",
    "10,85\n",
    "The program should calculate the mean, median, and mode of the test scores and display the results\n",
    "in a table."
   ]
  },
  {
   "cell_type": "code",
   "execution_count": 64,
   "id": "bfb718e6-f03f-45fa-aec5-e8eddd8c7039",
   "metadata": {},
   "outputs": [
    {
     "name": "stdin",
     "output_type": "stream",
     "text": [
      "Enter the file path:  student_data.csv\n"
     ]
    },
    {
     "data": {
      "text/html": [
       "<div>\n",
       "<style scoped>\n",
       "    .dataframe tbody tr th:only-of-type {\n",
       "        vertical-align: middle;\n",
       "    }\n",
       "\n",
       "    .dataframe tbody tr th {\n",
       "        vertical-align: top;\n",
       "    }\n",
       "\n",
       "    .dataframe thead th {\n",
       "        text-align: right;\n",
       "    }\n",
       "</style>\n",
       "<table border=\"1\" class=\"dataframe\">\n",
       "  <thead>\n",
       "    <tr style=\"text-align: right;\">\n",
       "      <th></th>\n",
       "      <th>Statistic</th>\n",
       "      <th>Value</th>\n",
       "    </tr>\n",
       "  </thead>\n",
       "  <tbody>\n",
       "    <tr>\n",
       "      <th>0</th>\n",
       "      <td>Mean</td>\n",
       "      <td>83.5</td>\n",
       "    </tr>\n",
       "    <tr>\n",
       "      <th>1</th>\n",
       "      <td>Median</td>\n",
       "      <td>85.0</td>\n",
       "    </tr>\n",
       "    <tr>\n",
       "      <th>2</th>\n",
       "      <td>Mode</td>\n",
       "      <td>85</td>\n",
       "    </tr>\n",
       "  </tbody>\n",
       "</table>\n",
       "</div>"
      ],
      "text/plain": [
       "  Statistic Value\n",
       "0      Mean  83.5\n",
       "1    Median  85.0\n",
       "2      Mode    85"
      ]
     },
     "execution_count": 64,
     "metadata": {},
     "output_type": "execute_result"
    }
   ],
   "source": [
    "import pandas as pd\n",
    "\n",
    "file = input(\"Enter the file path: \")\n",
    "\n",
    "df = pd.read_csv(file)\n",
    "\n",
    "mean = df['Test Score'].mean()\n",
    "\n",
    "median = df['Test Score'].median()\n",
    "\n",
    "mode = df['Test Score'].mode()\n",
    "\n",
    "table = pd.DataFrame({\"Statistic\":['Mean','Median','Mode'], \"Value\":[mean, median,','.join(map(str, mode))]})\n",
    "\n",
    "table\n",
    "\n"
   ]
  },
  {
   "cell_type": "code",
   "execution_count": null,
   "id": "0d44e507-467b-4887-98da-c6aa20825dcc",
   "metadata": {},
   "outputs": [],
   "source": []
  }
 ],
 "metadata": {
  "kernelspec": {
   "display_name": "Python 3 (ipykernel)",
   "language": "python",
   "name": "python3"
  },
  "language_info": {
   "codemirror_mode": {
    "name": "ipython",
    "version": 3
   },
   "file_extension": ".py",
   "mimetype": "text/x-python",
   "name": "python",
   "nbconvert_exporter": "python",
   "pygments_lexer": "ipython3",
   "version": "3.10.8"
  }
 },
 "nbformat": 4,
 "nbformat_minor": 5
}
